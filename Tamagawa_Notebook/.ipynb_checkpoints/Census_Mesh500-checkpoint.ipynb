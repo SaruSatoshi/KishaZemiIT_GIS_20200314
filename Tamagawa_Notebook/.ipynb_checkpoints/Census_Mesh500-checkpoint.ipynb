{
 "cells": [
  {
   "cell_type": "markdown",
   "metadata": {},
   "source": [
    "# 国勢調査５００ｍメッシュデータの加工\n",
    "- E-stat;国勢調査（５００ｍメッシュ）\n",
    "- https://www.e-stat.go.jp/gis/statmap-search?page=1&type=1&toukeiCode=00200521\n",
    "- 年度ごとの総人口を１つのcsvファイルにまとめる"
   ]
  },
  {
   "cell_type": "code",
   "execution_count": null,
   "metadata": {},
   "outputs": [],
   "source": [
    "import glob\n",
    "import re\n",
    "import os\n",
    "import pandas as pd\n",
    "import geopandas as gpd\n",
    "from matplotlib import pyplot as plt"
   ]
  },
  {
   "cell_type": "code",
   "execution_count": null,
   "metadata": {},
   "outputs": [],
   "source": [
    "# Jupyter Notebookでノートブック上にグラフを描画する際に指定する記述\n",
    "%matplotlib inline"
   ]
  },
  {
   "cell_type": "markdown",
   "metadata": {},
   "source": [
    "## １）変数を設定\n"
   ]
  },
  {
   "cell_type": "code",
   "execution_count": null,
   "metadata": {},
   "outputs": [],
   "source": [
    "# 都道府県\n",
    "region = \"Tokyo\""
   ]
  },
  {
   "cell_type": "code",
   "execution_count": null,
   "metadata": {},
   "outputs": [],
   "source": [
    "# メッシュID\n",
    "meshID = \"5339\""
   ]
  },
  {
   "cell_type": "code",
   "execution_count": null,
   "metadata": {},
   "outputs": [],
   "source": [
    "dir = \"../Data/Raw\""
   ]
  },
  {
   "cell_type": "markdown",
   "metadata": {},
   "source": [
    "## ２）５００ｍのシェープデータ(shp)を読み込み(data)\n",
    "- geopandasライブラリを利用\n",
    "- （参考）https://www.gis-py.com/entry/geopandas-master"
   ]
  },
  {
   "cell_type": "code",
   "execution_count": null,
   "metadata": {},
   "outputs": [],
   "source": [
    "fp = dir + \"/\" + region + \"Mesh/HXYSWH\" + meshID + \"/MESH0\" + meshID +\".shp\""
   ]
  },
  {
   "cell_type": "code",
   "execution_count": null,
   "metadata": {},
   "outputs": [],
   "source": [
    "fp"
   ]
  },
  {
   "cell_type": "code",
   "execution_count": null,
   "metadata": {},
   "outputs": [],
   "source": [
    "data = gpd.read_file(fp, encoding=\"SHIFT-JIS\")"
   ]
  },
  {
   "cell_type": "code",
   "execution_count": null,
   "metadata": {
    "scrolled": true
   },
   "outputs": [],
   "source": [
    "# GeoDataFrameの最初の5行を取得\n",
    "data.head()"
   ]
  },
  {
   "cell_type": "markdown",
   "metadata": {},
   "source": [
    "## ３）\"KEY_CODE\"をindexにするため、\"key_code\"を新たに作成してを複製\n",
    "- （参考）https://note.nkmk.me/python-pandas-set-index/"
   ]
  },
  {
   "cell_type": "code",
   "execution_count": null,
   "metadata": {},
   "outputs": [],
   "source": [
    "data[\"key_code\"] = data[\"KEY_CODE\"]"
   ]
  },
  {
   "cell_type": "code",
   "execution_count": null,
   "metadata": {},
   "outputs": [],
   "source": [
    "data_1 = data.set_index(\"key_code\")"
   ]
  },
  {
   "cell_type": "code",
   "execution_count": null,
   "metadata": {},
   "outputs": [],
   "source": [
    "data_1.head()"
   ]
  },
  {
   "cell_type": "markdown",
   "metadata": {},
   "source": [
    "## ４）年度ごとの同一メッシュのtxtファイルをリスト(allFiles)に保存\n",
    "- （参考）https://note.nkmk.me/python-glob-usage/"
   ]
  },
  {
   "cell_type": "code",
   "execution_count": null,
   "metadata": {},
   "outputs": [],
   "source": [
    "allFiles = sorted(glob.glob(dir + \"/\" + region + \"*/*/*\" + meshID + \"/*\" + meshID + \".txt\"))"
   ]
  },
  {
   "cell_type": "code",
   "execution_count": null,
   "metadata": {
    "scrolled": true
   },
   "outputs": [],
   "source": [
    "allFiles"
   ]
  },
  {
   "cell_type": "markdown",
   "metadata": {},
   "source": [
    "## ５）pandasでリストにまとめたtxtファイルを読み込みリスト化(list_1)\n",
    "- （参考）https://www.dragonarrow.work/articles/202\n",
    "- DataFrameの列(\"KEY_CODE\")をインデックス（行名）に割り当てる\n",
    "- （参考）https://note.nkmk.me/python-pandas-set-index/"
   ]
  },
  {
   "cell_type": "code",
   "execution_count": null,
   "metadata": {},
   "outputs": [],
   "source": [
    "list_1 = []"
   ]
  },
  {
   "cell_type": "code",
   "execution_count": null,
   "metadata": {},
   "outputs": [],
   "source": [
    "for file_ in allFiles:\n",
    "    df = pd.read_table(file_,\n",
    "                   encoding = \"shift_jis\",\n",
    "                   sep = \",\",\n",
    "                   dtype = 'object',\n",
    "                   index_col=None, \n",
    "                   header=0)\n",
    "    df = df.set_index(\"KEY_CODE\")\n",
    "    list_1.append(df)"
   ]
  },
  {
   "cell_type": "code",
   "execution_count": null,
   "metadata": {},
   "outputs": [],
   "source": [
    "list_1"
   ]
  },
  {
   "cell_type": "markdown",
   "metadata": {},
   "source": [
    "## ６）メッシュ(data_1)と人口(list_1)を結合(join)\n",
    "- （参考）https://note.nkmk.me/python-pandas-merge-join/\n",
    "- （参考）https://deepage.net/features/pandas-join.html"
   ]
  },
  {
   "cell_type": "code",
   "execution_count": null,
   "metadata": {
    "scrolled": true
   },
   "outputs": [],
   "source": [
    "data_2 = data_1.join(list_1)"
   ]
  },
  {
   "cell_type": "code",
   "execution_count": null,
   "metadata": {
    "scrolled": true
   },
   "outputs": [],
   "source": [
    "data_2.head()"
   ]
  },
  {
   "cell_type": "code",
   "execution_count": null,
   "metadata": {},
   "outputs": [],
   "source": [
    "# 各年の総人口のカラムを抽出\n",
    "data_3 = data_2.loc[:,[\"KEY_CODE\", \"T000752001\",\"T000386001\",\"T000387001\",\"T000609001\",\"T000847001\",\"geometry\"]]"
   ]
  },
  {
   "cell_type": "markdown",
   "metadata": {
    "collapsed": true
   },
   "source": [
    "## ７）カラム名を変更\n",
    "- （参考）https://note.nkmk.me/python-pandas-dataframe-rename/\n",
    "- pandas.DataFrameの構造とその作成方法\n",
    "- （参考）https://note.nkmk.me/python-pandas-dataframe-values-columns-index/"
   ]
  },
  {
   "cell_type": "code",
   "execution_count": null,
   "metadata": {},
   "outputs": [],
   "source": [
    "data_4 = data_3.rename(columns={\"T000752001\":\"1995_Total\",\"T000386001\":\"2000_Total\",\"T000387001\":\"2005_Total\",\"T000609001\":\"2010_Total\",\"T000847001\":\"2015_Total\"})"
   ]
  },
  {
   "cell_type": "code",
   "execution_count": null,
   "metadata": {},
   "outputs": [],
   "source": [
    "data_4.head()"
   ]
  },
  {
   "cell_type": "markdown",
   "metadata": {},
   "source": [
    "## ８）データ型を確認\n",
    "- https://note.nkmk.me/python-pandas-dtype-select/"
   ]
  },
  {
   "cell_type": "code",
   "execution_count": null,
   "metadata": {},
   "outputs": [],
   "source": [
    "data_4.dtypes"
   ]
  },
  {
   "cell_type": "markdown",
   "metadata": {},
   "source": [
    "## ９）欠損値NaNを０で置換\n",
    "（参考）https://note.nkmk.me/python-pandas-nan-dropna-fillna/"
   ]
  },
  {
   "cell_type": "code",
   "execution_count": null,
   "metadata": {},
   "outputs": [],
   "source": [
    "data_5 = data_4.fillna({'1995_Total': 0, '2000_Total': 0, '2005_Total': 0, '2010_Total' : 0,  '2015_Total' : 0})"
   ]
  },
  {
   "cell_type": "code",
   "execution_count": null,
   "metadata": {},
   "outputs": [],
   "source": [
    "data_5"
   ]
  },
  {
   "cell_type": "markdown",
   "metadata": {},
   "source": [
    "## １０）データ型を整数(int)に変更\n",
    "- （参考）https://note.nkmk.me/python-pandas-dataframe-values-columns-index/\n",
    "- （参考）https://note.nkmk.me/python-pandas-dtype-astype/"
   ]
  },
  {
   "cell_type": "code",
   "execution_count": null,
   "metadata": {},
   "outputs": [],
   "source": [
    "data_6= data_5.astype({'1995_Total': 'int', '2000_Total': 'int', '2005_Total': 'int', '2010_Total' : 'int',  '2015_Total' : 'int'})"
   ]
  },
  {
   "cell_type": "code",
   "execution_count": null,
   "metadata": {},
   "outputs": [],
   "source": [
    "data_6.head()"
   ]
  },
  {
   "cell_type": "markdown",
   "metadata": {},
   "source": [
    "## １１）結合したデータ(data_6)の確認\n",
    "- （参考）https://note.nkmk.me/python-pandas-len-shape-size/\n",
    "- （参考）https://note.nkmk.me/python-pandas-idxmax-idxmin/\n",
    "- （参考）https://note.nkmk.me/python-pandas-median/"
   ]
  },
  {
   "cell_type": "code",
   "execution_count": null,
   "metadata": {},
   "outputs": [],
   "source": [
    "# 行数や列数などを表示\n",
    "data_6.info()"
   ]
  },
  {
   "cell_type": "code",
   "execution_count": null,
   "metadata": {},
   "outputs": [],
   "source": [
    "# データ型を確認\n",
    "data_6.dtypes"
   ]
  },
  {
   "cell_type": "code",
   "execution_count": null,
   "metadata": {},
   "outputs": [],
   "source": [
    "# オブジェクトの型を取得\n",
    "type(data_6)"
   ]
  },
  {
   "cell_type": "code",
   "execution_count": null,
   "metadata": {},
   "outputs": [],
   "source": [
    "# 最大値\n",
    "data_6[\"2000_Total\"].max()"
   ]
  },
  {
   "cell_type": "code",
   "execution_count": null,
   "metadata": {},
   "outputs": [],
   "source": [
    "# 平均\n",
    "data_6[\"2000_Total\"].mean()"
   ]
  },
  {
   "cell_type": "code",
   "execution_count": null,
   "metadata": {},
   "outputs": [],
   "source": [
    "# 中央値\n",
    "data_6[\"2000_Total\"].median()"
   ]
  },
  {
   "cell_type": "code",
   "execution_count": null,
   "metadata": {},
   "outputs": [],
   "source": [
    "# 最小値\n",
    "data_6[\"2000_Total\"].min()"
   ]
  },
  {
   "cell_type": "markdown",
   "metadata": {},
   "source": [
    "## １２）Fionaを使用して測地系の設定\n",
    "- （参考）https://www.gis-py.com/entry/geopandas-master"
   ]
  },
  {
   "cell_type": "code",
   "execution_count": null,
   "metadata": {},
   "outputs": [],
   "source": [
    "from fiona.crs import from_epsg"
   ]
  },
  {
   "cell_type": "code",
   "execution_count": null,
   "metadata": {},
   "outputs": [],
   "source": [
    "data_6.crs = from_epsg(2451)"
   ]
  },
  {
   "cell_type": "code",
   "execution_count": null,
   "metadata": {},
   "outputs": [],
   "source": [
    "data_6.crs"
   ]
  },
  {
   "cell_type": "markdown",
   "metadata": {},
   "source": [
    "## １３）shpファイルに書き出し\n"
   ]
  },
  {
   "cell_type": "code",
   "execution_count": null,
   "metadata": {},
   "outputs": [],
   "source": [
    "dir_1 = \"../Data/Working\""
   ]
  },
  {
   "cell_type": "code",
   "execution_count": null,
   "metadata": {},
   "outputs": [],
   "source": [
    "dir_2 = dir_1 + \"/\" + region +\"_MeshPop\" + \"/\" + region + meshID"
   ]
  },
  {
   "cell_type": "code",
   "execution_count": null,
   "metadata": {},
   "outputs": [],
   "source": [
    "dir_2"
   ]
  },
  {
   "cell_type": "code",
   "execution_count": null,
   "metadata": {},
   "outputs": [],
   "source": [
    "os.mkdir(dir_2)"
   ]
  },
  {
   "cell_type": "code",
   "execution_count": null,
   "metadata": {},
   "outputs": [],
   "source": [
    "data_6.to_file(dir_2)"
   ]
  }
 ],
 "metadata": {
  "kernelspec": {
   "display_name": "Python 3",
   "language": "python",
   "name": "python3"
  },
  "language_info": {
   "codemirror_mode": {
    "name": "ipython",
    "version": 3
   },
   "file_extension": ".py",
   "mimetype": "text/x-python",
   "name": "python",
   "nbconvert_exporter": "python",
   "pygments_lexer": "ipython3",
   "version": "3.7.4"
  }
 },
 "nbformat": 4,
 "nbformat_minor": 4
}
