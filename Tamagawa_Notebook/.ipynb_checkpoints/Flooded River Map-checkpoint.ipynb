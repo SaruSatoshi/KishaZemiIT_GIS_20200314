{
 "cells": [
  {
   "cell_type": "markdown",
   "metadata": {},
   "source": [
    "# 浸水想定区域データの加工\n",
    "## 都道府県ごとの浸水想定区域データから任意の水系のshpファイルを作成\n",
    "- 国土数値情報：浸水想定区域\n",
    "- http://nlftp.mlit.go.jp/ksj/gml/datalist/KsjTmplt-A31.html\n"
   ]
  },
  {
   "cell_type": "code",
   "execution_count": 1,
   "metadata": {},
   "outputs": [],
   "source": [
    "import glob\n",
    "import re\n",
    "import os\n",
    "import pandas as pd"
   ]
  },
  {
   "cell_type": "markdown",
   "metadata": {},
   "source": [
    "## １）★河川名と都道府県(English)を変数に代入"
   ]
  },
  {
   "cell_type": "code",
   "execution_count": 2,
   "metadata": {},
   "outputs": [],
   "source": [
    "# 都道府県\n",
    "region = \"Kanagawa\""
   ]
  },
  {
   "cell_type": "code",
   "execution_count": 3,
   "metadata": {},
   "outputs": [],
   "source": [
    "# 抽出する河川\n",
    "river = \"相模川\""
   ]
  },
  {
   "cell_type": "code",
   "execution_count": 4,
   "metadata": {},
   "outputs": [],
   "source": [
    "# 抽出する河川\n",
    "river_2 = \"Sagamigawa\""
   ]
  },
  {
   "cell_type": "code",
   "execution_count": 5,
   "metadata": {},
   "outputs": [],
   "source": [
    "dir = \"../Data/Raw\""
   ]
  },
  {
   "cell_type": "markdown",
   "metadata": {},
   "source": [
    "## ２）浸水想定区域データの属性ファイル(txt)をリスト(allFiles)に保存\n",
    "- （参考）https://note.nkmk.me/python-glob-usage/"
   ]
  },
  {
   "cell_type": "code",
   "execution_count": 6,
   "metadata": {},
   "outputs": [],
   "source": [
    "allFiles = sorted(glob.glob(dir + \"/\" + region + \"*/*/*.txt\"))"
   ]
  },
  {
   "cell_type": "code",
   "execution_count": 7,
   "metadata": {},
   "outputs": [
    {
     "data": {
      "text/plain": [
       "31"
      ]
     },
     "execution_count": 7,
     "metadata": {},
     "output_type": "execute_result"
    }
   ],
   "source": [
    "len(allFiles)"
   ]
  },
  {
   "cell_type": "code",
   "execution_count": 8,
   "metadata": {
    "scrolled": true
   },
   "outputs": [
    {
     "data": {
      "text/plain": [
       "['../Data/Raw\\\\Kanagawa_Tamagawa\\\\属性テキストファイル\\\\14001.txt',\n",
       " '../Data/Raw\\\\Kanagawa_Tamagawa\\\\属性テキストファイル\\\\14002.txt',\n",
       " '../Data/Raw\\\\Kanagawa_Tamagawa\\\\属性テキストファイル\\\\14003.txt',\n",
       " '../Data/Raw\\\\Kanagawa_Tamagawa\\\\属性テキストファイル\\\\14004.txt',\n",
       " '../Data/Raw\\\\Kanagawa_Tamagawa\\\\属性テキストファイル\\\\14005.txt',\n",
       " '../Data/Raw\\\\Kanagawa_Tamagawa\\\\属性テキストファイル\\\\14006.txt',\n",
       " '../Data/Raw\\\\Kanagawa_Tamagawa\\\\属性テキストファイル\\\\14007.txt',\n",
       " '../Data/Raw\\\\Kanagawa_Tamagawa\\\\属性テキストファイル\\\\14008.txt',\n",
       " '../Data/Raw\\\\Kanagawa_Tamagawa\\\\属性テキストファイル\\\\14009.txt',\n",
       " '../Data/Raw\\\\Kanagawa_Tamagawa\\\\属性テキストファイル\\\\14010.txt',\n",
       " '../Data/Raw\\\\Kanagawa_Tamagawa\\\\属性テキストファイル\\\\14011.txt',\n",
       " '../Data/Raw\\\\Kanagawa_Tamagawa\\\\属性テキストファイル\\\\14012.txt',\n",
       " '../Data/Raw\\\\Kanagawa_Tamagawa\\\\属性テキストファイル\\\\14013.txt',\n",
       " '../Data/Raw\\\\Kanagawa_Tamagawa\\\\属性テキストファイル\\\\14014.txt',\n",
       " '../Data/Raw\\\\Kanagawa_Tamagawa\\\\属性テキストファイル\\\\14015.txt',\n",
       " '../Data/Raw\\\\Kanagawa_Tamagawa\\\\属性テキストファイル\\\\14016.txt',\n",
       " '../Data/Raw\\\\Kanagawa_Tamagawa\\\\属性テキストファイル\\\\14017.txt',\n",
       " '../Data/Raw\\\\Kanagawa_Tamagawa\\\\属性テキストファイル\\\\14018.txt',\n",
       " '../Data/Raw\\\\Kanagawa_Tamagawa\\\\属性テキストファイル\\\\14019.txt',\n",
       " '../Data/Raw\\\\Kanagawa_Tamagawa\\\\属性テキストファイル\\\\14020.txt',\n",
       " '../Data/Raw\\\\Kanagawa_Tamagawa\\\\属性テキストファイル\\\\14021.txt',\n",
       " '../Data/Raw\\\\Kanagawa_Tamagawa\\\\属性テキストファイル\\\\14022.txt',\n",
       " '../Data/Raw\\\\Kanagawa_Tamagawa\\\\属性テキストファイル\\\\14023.txt',\n",
       " '../Data/Raw\\\\Kanagawa_Tamagawa\\\\属性テキストファイル\\\\83001.txt',\n",
       " '../Data/Raw\\\\Kanagawa_Tamagawa\\\\属性テキストファイル\\\\83002.txt',\n",
       " '../Data/Raw\\\\Kanagawa_Tamagawa\\\\属性テキストファイル\\\\83003.txt',\n",
       " '../Data/Raw\\\\Kanagawa_Tamagawa\\\\属性テキストファイル\\\\83004.txt',\n",
       " '../Data/Raw\\\\Kanagawa_Tamagawa\\\\属性テキストファイル\\\\83005.txt',\n",
       " '../Data/Raw\\\\Kanagawa_Tamagawa\\\\属性テキストファイル\\\\83006.txt',\n",
       " '../Data/Raw\\\\Kanagawa_Tamagawa\\\\属性テキストファイル\\\\83007.txt',\n",
       " '../Data/Raw\\\\Kanagawa_Tamagawa\\\\属性テキストファイル\\\\83008.txt']"
      ]
     },
     "execution_count": 8,
     "metadata": {},
     "output_type": "execute_result"
    }
   ],
   "source": [
    "allFiles"
   ]
  },
  {
   "cell_type": "markdown",
   "metadata": {},
   "source": [
    "## ３）抽出する河川名の入ったファイルをリスト化(list_1)\n",
    "- （参考）https://note.nkmk.me/python-file-io-open-with/\n",
    "- （参考）https://note.nkmk.me/python-str-search/\n",
    "- （参考）https://note.nkmk.me/python-if-elif-else/"
   ]
  },
  {
   "cell_type": "code",
   "execution_count": 9,
   "metadata": {},
   "outputs": [],
   "source": [
    "list_1 = []"
   ]
  },
  {
   "cell_type": "code",
   "execution_count": 10,
   "metadata": {},
   "outputs": [],
   "source": [
    "for file_ in allFiles:\n",
    "    with open(file_) as f:\n",
    "        s = f.read()\n",
    "        if river in s:\n",
    "            # ファイル名（５桁の数字）を抽出\n",
    "            code = f.name[-9:-4]\n",
    "            list_1.append(code)"
   ]
  },
  {
   "cell_type": "code",
   "execution_count": 11,
   "metadata": {
    "scrolled": true
   },
   "outputs": [
    {
     "data": {
      "text/plain": [
       "['14001', '14003', '14014', '14015', '14018', '14019', '14023', '83007']"
      ]
     },
     "execution_count": 11,
     "metadata": {},
     "output_type": "execute_result"
    }
   ],
   "source": [
    "list_1"
   ]
  },
  {
   "cell_type": "code",
   "execution_count": 12,
   "metadata": {},
   "outputs": [],
   "source": [
    "# 確認用\n",
    "with open(dir + \"/\" + region + \"_Tamagawa/属性テキストファイル/\" + list_1[0] + \".txt\") as f:\n",
    "        s = f.read()"
   ]
  },
  {
   "cell_type": "code",
   "execution_count": 13,
   "metadata": {
    "scrolled": true
   },
   "outputs": [
    {
     "data": {
      "text/plain": [
       "'\"説明文\",\"(1)\",\"この図は、相模川水系道志川の浸水想定区域と、当該区域が浸水した場合に想定される水深その他を示したものです。\"\\n\"説明文\",\"(2)\",\"この浸水想定区域は、解析時点の道志川の河道等の整備状況を勘案して、洪水防御に関する計画の基本となる降雨である概ね30年に1回程度起こる大雨が降ったことにより、道志川がはん濫した場合に想定される浸水の状況を、シミュレーションにより求めたものです。\"\\n\"説明文\",\"(3)\",\"このシミュレーションの実施にあたっては、想定を越える降雨、相模川等隣接する河川や支川のはん濫、内水によるはん濫等を考慮していませんので、この浸水想定区域図に指定されていない区域においても浸水が発生する場合や、想定される水深が実際の浸水深と異なる場合があります。\"\\n\"作成種別コード\",\"\",\"14\"\\n\"作成主体\",\"\",\"神奈川県\"\\n\"指定年月日\",\"\",\"記載なし\"\\n\"告示番号\",\"\",\"記載なし\"\\n\"対象となる洪水予報河川\",\"\",\"相模川水系道志川\\u3000（実施区間：左岸\\u3000相模原市藤野町牧野10，536番地地先、山梨県界から相模川合流点まで\\u3000右岸\\u3000相模原市津久井町青根3，657番地地先、山梨県界から相模川合流点まで）\"\\n\"指定の前提となる計画降雨\",\"\",\"1時間最大雨量\\u300074mm\"\\n\"関係市町村\",\"\",\"相模原市\"\\n\"その他計算条件等\",\"①\",\"この図は、道志川で溢水、破堤した場合の浸水想定区域を図示しています。このため、対象河川以外の支川等が溢水、破堤した場合の浸水状況は図示していません。\"\\n\"その他計算条件等\",\"②\",\"この図は、道志川において、危険となる水位に達した時点で破堤、堤防のある区間においては越水及び堤防のない区間においては溢水したときのはん濫計算結果を基に作成したものです。\"\\n\"その他計算条件等\",\"③\",\"はん濫計算は、対象区間を25m格子（計算メッシュという）に分割して、これを1単位として計算しています。また、計算メッシュの地盤高は基本的に航空測量データを基に平均地盤高を算定したものを使用しています。このため、微地形による影響を表せていない場合があります。\"\\n\"その他計算条件等\",\"④\",\"浸水想定区域や等深線は、はん濫計算結果から計算メッシュ毎に想定水位を算出し、隣接する計算メッシュとの連続性や、縮尺1/2,500の地形図上の地形、連続盛土構造物（道路や鉄道盛土など）を考慮して図化しています。\"\\n'"
      ]
     },
     "execution_count": 13,
     "metadata": {},
     "output_type": "execute_result"
    }
   ],
   "source": [
    "s"
   ]
  },
  {
   "cell_type": "markdown",
   "metadata": {},
   "source": [
    "## ４）浸水想定区域のシェープファイル(shp)を読み込み(data)\n",
    "- geopandasライブラリを利用\n",
    "- （参考）https://www.gis-py.com/entry/geopandas-master"
   ]
  },
  {
   "cell_type": "code",
   "execution_count": 14,
   "metadata": {},
   "outputs": [],
   "source": [
    "# geopandasをインポート\n",
    "import geopandas as gpd\n",
    "from matplotlib import pyplot as plt"
   ]
  },
  {
   "cell_type": "code",
   "execution_count": 15,
   "metadata": {},
   "outputs": [],
   "source": [
    "# Jupyter Notebookでノートブック上にグラフを描画する際に指定する記述\n",
    "%matplotlib inline"
   ]
  },
  {
   "cell_type": "markdown",
   "metadata": {},
   "source": [
    "## ５）★都道府県コードを変数（code）に代入"
   ]
  },
  {
   "cell_type": "code",
   "execution_count": 16,
   "metadata": {},
   "outputs": [],
   "source": [
    "# 都道府県コードを代入\n",
    "code = \"14\""
   ]
  },
  {
   "cell_type": "code",
   "execution_count": 17,
   "metadata": {},
   "outputs": [],
   "source": [
    "fp = dir + \"/\" + region + \"_Tamagawa/A31-12_\" + code + \".shp\""
   ]
  },
  {
   "cell_type": "code",
   "execution_count": 18,
   "metadata": {
    "scrolled": true
   },
   "outputs": [
    {
     "data": {
      "text/plain": [
       "'../Data/Raw/Kanagawa_Tamagawa/A31-12_14.shp'"
      ]
     },
     "execution_count": 18,
     "metadata": {},
     "output_type": "execute_result"
    }
   ],
   "source": [
    "fp"
   ]
  },
  {
   "cell_type": "code",
   "execution_count": 19,
   "metadata": {},
   "outputs": [],
   "source": [
    "data = gpd.read_file(fp, encoding=\"SHIFT-JIS\")"
   ]
  },
  {
   "cell_type": "code",
   "execution_count": 20,
   "metadata": {
    "scrolled": false
   },
   "outputs": [
    {
     "data": {
      "text/html": [
       "<div>\n",
       "<style scoped>\n",
       "    .dataframe tbody tr th:only-of-type {\n",
       "        vertical-align: middle;\n",
       "    }\n",
       "\n",
       "    .dataframe tbody tr th {\n",
       "        vertical-align: top;\n",
       "    }\n",
       "\n",
       "    .dataframe thead th {\n",
       "        text-align: right;\n",
       "    }\n",
       "</style>\n",
       "<table border=\"1\" class=\"dataframe\">\n",
       "  <thead>\n",
       "    <tr style=\"text-align: right;\">\n",
       "      <th></th>\n",
       "      <th>A31_001</th>\n",
       "      <th>A31_002</th>\n",
       "      <th>A31_003</th>\n",
       "      <th>A31_004</th>\n",
       "      <th>A31_005</th>\n",
       "      <th>A31_006</th>\n",
       "      <th>geometry</th>\n",
       "    </tr>\n",
       "  </thead>\n",
       "  <tbody>\n",
       "    <tr>\n",
       "      <td>0</td>\n",
       "      <td>11</td>\n",
       "      <td>14</td>\n",
       "      <td>神奈川県</td>\n",
       "      <td>引地川：平成19年11月6日　蓼川：平成19年11月6日</td>\n",
       "      <td>引地川：神奈川県　告示第707号、蓼川：神奈川県　告示　第708号</td>\n",
       "      <td>14005</td>\n",
       "      <td>POLYGON ((139.44589 35.43813, 139.44584 35.438...</td>\n",
       "    </tr>\n",
       "    <tr>\n",
       "      <td>1</td>\n",
       "      <td>11</td>\n",
       "      <td>14</td>\n",
       "      <td>神奈川県</td>\n",
       "      <td>引地川：平成19年11月6日　蓼川：平成19年11月6日</td>\n",
       "      <td>引地川：神奈川県　告示第707号、蓼川：神奈川県　告示　第708号</td>\n",
       "      <td>14005</td>\n",
       "      <td>POLYGON ((139.45606 35.41452, 139.45615 35.414...</td>\n",
       "    </tr>\n",
       "    <tr>\n",
       "      <td>2</td>\n",
       "      <td>13</td>\n",
       "      <td>14</td>\n",
       "      <td>神奈川県</td>\n",
       "      <td>引地川：平成19年11月6日　蓼川：平成19年11月6日</td>\n",
       "      <td>引地川：神奈川県　告示第707号、蓼川：神奈川県　告示　第708号</td>\n",
       "      <td>14005</td>\n",
       "      <td>POLYGON ((139.46247 35.44542, 139.46243 35.444...</td>\n",
       "    </tr>\n",
       "    <tr>\n",
       "      <td>3</td>\n",
       "      <td>13</td>\n",
       "      <td>14</td>\n",
       "      <td>神奈川県</td>\n",
       "      <td>引地川：平成19年11月6日　蓼川：平成19年11月6日</td>\n",
       "      <td>引地川：神奈川県　告示第707号、蓼川：神奈川県　告示　第708号</td>\n",
       "      <td>14005</td>\n",
       "      <td>POLYGON ((139.44383 35.42291, 139.44384 35.423...</td>\n",
       "    </tr>\n",
       "    <tr>\n",
       "      <td>4</td>\n",
       "      <td>13</td>\n",
       "      <td>14</td>\n",
       "      <td>神奈川県</td>\n",
       "      <td>引地川：平成19年11月6日　蓼川：平成19年11月6日</td>\n",
       "      <td>引地川：神奈川県　告示第707号、蓼川：神奈川県　告示　第708号</td>\n",
       "      <td>14005</td>\n",
       "      <td>POLYGON ((139.45710 35.37905, 139.45694 35.379...</td>\n",
       "    </tr>\n",
       "  </tbody>\n",
       "</table>\n",
       "</div>"
      ],
      "text/plain": [
       "   A31_001  A31_002 A31_003                       A31_004  \\\n",
       "0       11       14    神奈川県  引地川：平成19年11月6日　蓼川：平成19年11月6日   \n",
       "1       11       14    神奈川県  引地川：平成19年11月6日　蓼川：平成19年11月6日   \n",
       "2       13       14    神奈川県  引地川：平成19年11月6日　蓼川：平成19年11月6日   \n",
       "3       13       14    神奈川県  引地川：平成19年11月6日　蓼川：平成19年11月6日   \n",
       "4       13       14    神奈川県  引地川：平成19年11月6日　蓼川：平成19年11月6日   \n",
       "\n",
       "                             A31_005 A31_006  \\\n",
       "0  引地川：神奈川県　告示第707号、蓼川：神奈川県　告示　第708号   14005   \n",
       "1  引地川：神奈川県　告示第707号、蓼川：神奈川県　告示　第708号   14005   \n",
       "2  引地川：神奈川県　告示第707号、蓼川：神奈川県　告示　第708号   14005   \n",
       "3  引地川：神奈川県　告示第707号、蓼川：神奈川県　告示　第708号   14005   \n",
       "4  引地川：神奈川県　告示第707号、蓼川：神奈川県　告示　第708号   14005   \n",
       "\n",
       "                                            geometry  \n",
       "0  POLYGON ((139.44589 35.43813, 139.44584 35.438...  \n",
       "1  POLYGON ((139.45606 35.41452, 139.45615 35.414...  \n",
       "2  POLYGON ((139.46247 35.44542, 139.46243 35.444...  \n",
       "3  POLYGON ((139.44383 35.42291, 139.44384 35.423...  \n",
       "4  POLYGON ((139.45710 35.37905, 139.45694 35.379...  "
      ]
     },
     "execution_count": 20,
     "metadata": {},
     "output_type": "execute_result"
    }
   ],
   "source": [
    "data.head()"
   ]
  },
  {
   "cell_type": "markdown",
   "metadata": {},
   "source": [
    "## ６）\"多摩川\"の入ったデータ（list_1)を抽出\n",
    "- （参考）https://note.nkmk.me/python-pandas-concat/"
   ]
  },
  {
   "cell_type": "code",
   "execution_count": 21,
   "metadata": {},
   "outputs": [],
   "source": [
    "list_2 = []"
   ]
  },
  {
   "cell_type": "code",
   "execution_count": 22,
   "metadata": {},
   "outputs": [],
   "source": [
    "for i in list_1:\n",
    "    data_1 = data[data.A31_006 == i]\n",
    "    list_2.append(data_1)\n",
    "data_2 = pd.concat(list_2)"
   ]
  },
  {
   "cell_type": "code",
   "execution_count": 23,
   "metadata": {
    "scrolled": false
   },
   "outputs": [
    {
     "data": {
      "text/html": [
       "<div>\n",
       "<style scoped>\n",
       "    .dataframe tbody tr th:only-of-type {\n",
       "        vertical-align: middle;\n",
       "    }\n",
       "\n",
       "    .dataframe tbody tr th {\n",
       "        vertical-align: top;\n",
       "    }\n",
       "\n",
       "    .dataframe thead th {\n",
       "        text-align: right;\n",
       "    }\n",
       "</style>\n",
       "<table border=\"1\" class=\"dataframe\">\n",
       "  <thead>\n",
       "    <tr style=\"text-align: right;\">\n",
       "      <th></th>\n",
       "      <th>A31_001</th>\n",
       "      <th>A31_002</th>\n",
       "      <th>A31_003</th>\n",
       "      <th>A31_004</th>\n",
       "      <th>A31_005</th>\n",
       "      <th>A31_006</th>\n",
       "      <th>geometry</th>\n",
       "    </tr>\n",
       "  </thead>\n",
       "  <tbody>\n",
       "    <tr>\n",
       "      <td>2702</td>\n",
       "      <td>11</td>\n",
       "      <td>14</td>\n",
       "      <td>神奈川県</td>\n",
       "      <td>記載なし</td>\n",
       "      <td>記載なし</td>\n",
       "      <td>14001</td>\n",
       "      <td>POLYGON ((139.19950 35.56956, 139.19957 35.569...</td>\n",
       "    </tr>\n",
       "    <tr>\n",
       "      <td>2703</td>\n",
       "      <td>12</td>\n",
       "      <td>14</td>\n",
       "      <td>神奈川県</td>\n",
       "      <td>記載なし</td>\n",
       "      <td>記載なし</td>\n",
       "      <td>14001</td>\n",
       "      <td>POLYGON ((139.19950 35.56956, 139.19942 35.569...</td>\n",
       "    </tr>\n",
       "    <tr>\n",
       "      <td>2704</td>\n",
       "      <td>13</td>\n",
       "      <td>14</td>\n",
       "      <td>神奈川県相模原土木事務所</td>\n",
       "      <td>平成19年5月29日</td>\n",
       "      <td>神奈川県　告示第385号</td>\n",
       "      <td>14003</td>\n",
       "      <td>POLYGON ((139.38745 35.48584, 139.38746 35.485...</td>\n",
       "    </tr>\n",
       "    <tr>\n",
       "      <td>2705</td>\n",
       "      <td>11</td>\n",
       "      <td>14</td>\n",
       "      <td>神奈川県相模原土木事務所</td>\n",
       "      <td>平成19年5月29日</td>\n",
       "      <td>神奈川県　告示第385号</td>\n",
       "      <td>14003</td>\n",
       "      <td>POLYGON ((139.37267 35.53690, 139.37268 35.536...</td>\n",
       "    </tr>\n",
       "    <tr>\n",
       "      <td>2706</td>\n",
       "      <td>11</td>\n",
       "      <td>14</td>\n",
       "      <td>神奈川県相模原土木事務所</td>\n",
       "      <td>平成19年5月29日</td>\n",
       "      <td>神奈川県　告示第385号</td>\n",
       "      <td>14003</td>\n",
       "      <td>POLYGON ((139.37251 35.53633, 139.37253 35.536...</td>\n",
       "    </tr>\n",
       "  </tbody>\n",
       "</table>\n",
       "</div>"
      ],
      "text/plain": [
       "      A31_001  A31_002       A31_003     A31_004       A31_005 A31_006  \\\n",
       "2702       11       14          神奈川県        記載なし          記載なし   14001   \n",
       "2703       12       14          神奈川県        記載なし          記載なし   14001   \n",
       "2704       13       14  神奈川県相模原土木事務所  平成19年5月29日  神奈川県　告示第385号   14003   \n",
       "2705       11       14  神奈川県相模原土木事務所  平成19年5月29日  神奈川県　告示第385号   14003   \n",
       "2706       11       14  神奈川県相模原土木事務所  平成19年5月29日  神奈川県　告示第385号   14003   \n",
       "\n",
       "                                               geometry  \n",
       "2702  POLYGON ((139.19950 35.56956, 139.19957 35.569...  \n",
       "2703  POLYGON ((139.19950 35.56956, 139.19942 35.569...  \n",
       "2704  POLYGON ((139.38745 35.48584, 139.38746 35.485...  \n",
       "2705  POLYGON ((139.37267 35.53690, 139.37268 35.536...  \n",
       "2706  POLYGON ((139.37251 35.53633, 139.37253 35.536...  "
      ]
     },
     "execution_count": 23,
     "metadata": {},
     "output_type": "execute_result"
    }
   ],
   "source": [
    "data_2.head()"
   ]
  },
  {
   "cell_type": "markdown",
   "metadata": {},
   "source": [
    "## ７）７段階浸水深ランクを５段階に変換\n",
    "- （参考）https://qiita.com/Hyperion13fleet/items/98c31744e66ac1fc1e9f"
   ]
  },
  {
   "cell_type": "code",
   "execution_count": 24,
   "metadata": {},
   "outputs": [],
   "source": [
    "# 条件分岐の関数を定義\n",
    "def func_cat(x):\n",
    "    if x ==21:\n",
    "        return 11\n",
    "    elif x == 22:\n",
    "        return 12\n",
    "    elif x == 23:\n",
    "        return 13\n",
    "    elif x == 24:\n",
    "        return 14\n",
    "    elif x == 25:\n",
    "        return 14\n",
    "    elif x == 26:\n",
    "        return 14\n",
    "    elif x == 27:\n",
    "        return 15\n",
    "    else:\n",
    "        return x\n",
    "\n",
    "# applyで適用\n",
    "data_2[\"Shinsui\"] = data_2[\"A31_001\"].apply(func_cat)  "
   ]
  },
  {
   "cell_type": "code",
   "execution_count": 25,
   "metadata": {},
   "outputs": [
    {
     "data": {
      "text/html": [
       "<div>\n",
       "<style scoped>\n",
       "    .dataframe tbody tr th:only-of-type {\n",
       "        vertical-align: middle;\n",
       "    }\n",
       "\n",
       "    .dataframe tbody tr th {\n",
       "        vertical-align: top;\n",
       "    }\n",
       "\n",
       "    .dataframe thead th {\n",
       "        text-align: right;\n",
       "    }\n",
       "</style>\n",
       "<table border=\"1\" class=\"dataframe\">\n",
       "  <thead>\n",
       "    <tr style=\"text-align: right;\">\n",
       "      <th></th>\n",
       "      <th>A31_001</th>\n",
       "      <th>A31_002</th>\n",
       "      <th>A31_003</th>\n",
       "      <th>A31_004</th>\n",
       "      <th>A31_005</th>\n",
       "      <th>A31_006</th>\n",
       "      <th>geometry</th>\n",
       "      <th>Shinsui</th>\n",
       "    </tr>\n",
       "  </thead>\n",
       "  <tbody>\n",
       "    <tr>\n",
       "      <td>2702</td>\n",
       "      <td>11</td>\n",
       "      <td>14</td>\n",
       "      <td>神奈川県</td>\n",
       "      <td>記載なし</td>\n",
       "      <td>記載なし</td>\n",
       "      <td>14001</td>\n",
       "      <td>POLYGON ((139.19950 35.56956, 139.19957 35.569...</td>\n",
       "      <td>11</td>\n",
       "    </tr>\n",
       "    <tr>\n",
       "      <td>2703</td>\n",
       "      <td>12</td>\n",
       "      <td>14</td>\n",
       "      <td>神奈川県</td>\n",
       "      <td>記載なし</td>\n",
       "      <td>記載なし</td>\n",
       "      <td>14001</td>\n",
       "      <td>POLYGON ((139.19950 35.56956, 139.19942 35.569...</td>\n",
       "      <td>12</td>\n",
       "    </tr>\n",
       "    <tr>\n",
       "      <td>2704</td>\n",
       "      <td>13</td>\n",
       "      <td>14</td>\n",
       "      <td>神奈川県相模原土木事務所</td>\n",
       "      <td>平成19年5月29日</td>\n",
       "      <td>神奈川県　告示第385号</td>\n",
       "      <td>14003</td>\n",
       "      <td>POLYGON ((139.38745 35.48584, 139.38746 35.485...</td>\n",
       "      <td>13</td>\n",
       "    </tr>\n",
       "    <tr>\n",
       "      <td>2705</td>\n",
       "      <td>11</td>\n",
       "      <td>14</td>\n",
       "      <td>神奈川県相模原土木事務所</td>\n",
       "      <td>平成19年5月29日</td>\n",
       "      <td>神奈川県　告示第385号</td>\n",
       "      <td>14003</td>\n",
       "      <td>POLYGON ((139.37267 35.53690, 139.37268 35.536...</td>\n",
       "      <td>11</td>\n",
       "    </tr>\n",
       "    <tr>\n",
       "      <td>2706</td>\n",
       "      <td>11</td>\n",
       "      <td>14</td>\n",
       "      <td>神奈川県相模原土木事務所</td>\n",
       "      <td>平成19年5月29日</td>\n",
       "      <td>神奈川県　告示第385号</td>\n",
       "      <td>14003</td>\n",
       "      <td>POLYGON ((139.37251 35.53633, 139.37253 35.536...</td>\n",
       "      <td>11</td>\n",
       "    </tr>\n",
       "    <tr>\n",
       "      <td>...</td>\n",
       "      <td>...</td>\n",
       "      <td>...</td>\n",
       "      <td>...</td>\n",
       "      <td>...</td>\n",
       "      <td>...</td>\n",
       "      <td>...</td>\n",
       "      <td>...</td>\n",
       "      <td>...</td>\n",
       "    </tr>\n",
       "    <tr>\n",
       "      <td>3755</td>\n",
       "      <td>24</td>\n",
       "      <td>83</td>\n",
       "      <td>国土交通省関東地方整備局京浜工事事務所</td>\n",
       "      <td>平成14年8月30日</td>\n",
       "      <td>国土交通省関東地方整備局告示第319号</td>\n",
       "      <td>83007</td>\n",
       "      <td>POLYGON ((139.38431 35.32515, 139.38431 35.326...</td>\n",
       "      <td>14</td>\n",
       "    </tr>\n",
       "    <tr>\n",
       "      <td>3756</td>\n",
       "      <td>21</td>\n",
       "      <td>83</td>\n",
       "      <td>国土交通省関東地方整備局京浜工事事務所</td>\n",
       "      <td>平成14年8月30日</td>\n",
       "      <td>国土交通省関東地方整備局告示第319号</td>\n",
       "      <td>83007</td>\n",
       "      <td>POLYGON ((139.37337 35.33661, 139.37337 35.335...</td>\n",
       "      <td>11</td>\n",
       "    </tr>\n",
       "    <tr>\n",
       "      <td>3757</td>\n",
       "      <td>22</td>\n",
       "      <td>83</td>\n",
       "      <td>国土交通省関東地方整備局京浜工事事務所</td>\n",
       "      <td>平成14年8月30日</td>\n",
       "      <td>国土交通省関東地方整備局告示第319号</td>\n",
       "      <td>83007</td>\n",
       "      <td>POLYGON ((139.38118 35.34806, 139.38274 35.348...</td>\n",
       "      <td>12</td>\n",
       "    </tr>\n",
       "    <tr>\n",
       "      <td>3758</td>\n",
       "      <td>23</td>\n",
       "      <td>83</td>\n",
       "      <td>国土交通省関東地方整備局京浜工事事務所</td>\n",
       "      <td>平成14年8月30日</td>\n",
       "      <td>国土交通省関東地方整備局告示第319号</td>\n",
       "      <td>83007</td>\n",
       "      <td>POLYGON ((139.38118 35.32307, 139.37962 35.323...</td>\n",
       "      <td>13</td>\n",
       "    </tr>\n",
       "    <tr>\n",
       "      <td>3759</td>\n",
       "      <td>21</td>\n",
       "      <td>83</td>\n",
       "      <td>国土交通省関東地方整備局京浜工事事務所</td>\n",
       "      <td>平成14年8月30日</td>\n",
       "      <td>国土交通省関東地方整備局告示第319号</td>\n",
       "      <td>83007</td>\n",
       "      <td>POLYGON ((139.39055 35.35744, 139.39212 35.357...</td>\n",
       "      <td>11</td>\n",
       "    </tr>\n",
       "  </tbody>\n",
       "</table>\n",
       "<p>1606 rows × 8 columns</p>\n",
       "</div>"
      ],
      "text/plain": [
       "      A31_001  A31_002              A31_003     A31_004              A31_005  \\\n",
       "2702       11       14                 神奈川県        記載なし                 記載なし   \n",
       "2703       12       14                 神奈川県        記載なし                 記載なし   \n",
       "2704       13       14         神奈川県相模原土木事務所  平成19年5月29日         神奈川県　告示第385号   \n",
       "2705       11       14         神奈川県相模原土木事務所  平成19年5月29日         神奈川県　告示第385号   \n",
       "2706       11       14         神奈川県相模原土木事務所  平成19年5月29日         神奈川県　告示第385号   \n",
       "...       ...      ...                  ...         ...                  ...   \n",
       "3755       24       83  国土交通省関東地方整備局京浜工事事務所  平成14年8月30日  国土交通省関東地方整備局告示第319号   \n",
       "3756       21       83  国土交通省関東地方整備局京浜工事事務所  平成14年8月30日  国土交通省関東地方整備局告示第319号   \n",
       "3757       22       83  国土交通省関東地方整備局京浜工事事務所  平成14年8月30日  国土交通省関東地方整備局告示第319号   \n",
       "3758       23       83  国土交通省関東地方整備局京浜工事事務所  平成14年8月30日  国土交通省関東地方整備局告示第319号   \n",
       "3759       21       83  国土交通省関東地方整備局京浜工事事務所  平成14年8月30日  国土交通省関東地方整備局告示第319号   \n",
       "\n",
       "     A31_006                                           geometry  Shinsui  \n",
       "2702   14001  POLYGON ((139.19950 35.56956, 139.19957 35.569...       11  \n",
       "2703   14001  POLYGON ((139.19950 35.56956, 139.19942 35.569...       12  \n",
       "2704   14003  POLYGON ((139.38745 35.48584, 139.38746 35.485...       13  \n",
       "2705   14003  POLYGON ((139.37267 35.53690, 139.37268 35.536...       11  \n",
       "2706   14003  POLYGON ((139.37251 35.53633, 139.37253 35.536...       11  \n",
       "...      ...                                                ...      ...  \n",
       "3755   83007  POLYGON ((139.38431 35.32515, 139.38431 35.326...       14  \n",
       "3756   83007  POLYGON ((139.37337 35.33661, 139.37337 35.335...       11  \n",
       "3757   83007  POLYGON ((139.38118 35.34806, 139.38274 35.348...       12  \n",
       "3758   83007  POLYGON ((139.38118 35.32307, 139.37962 35.323...       13  \n",
       "3759   83007  POLYGON ((139.39055 35.35744, 139.39212 35.357...       11  \n",
       "\n",
       "[1606 rows x 8 columns]"
      ]
     },
     "execution_count": 25,
     "metadata": {},
     "output_type": "execute_result"
    }
   ],
   "source": [
    "data_2"
   ]
  },
  {
   "cell_type": "code",
   "execution_count": 26,
   "metadata": {
    "scrolled": true
   },
   "outputs": [
    {
     "data": {
      "text/plain": [
       "A31_001        int64\n",
       "A31_002        int64\n",
       "A31_003       object\n",
       "A31_004       object\n",
       "A31_005       object\n",
       "A31_006       object\n",
       "geometry    geometry\n",
       "Shinsui        int64\n",
       "dtype: object"
      ]
     },
     "execution_count": 26,
     "metadata": {},
     "output_type": "execute_result"
    }
   ],
   "source": [
    "data_2.dtypes"
   ]
  },
  {
   "cell_type": "code",
   "execution_count": 27,
   "metadata": {},
   "outputs": [
    {
     "data": {
      "text/plain": [
       "geopandas.geodataframe.GeoDataFrame"
      ]
     },
     "execution_count": 27,
     "metadata": {},
     "output_type": "execute_result"
    }
   ],
   "source": [
    "type(data_2)"
   ]
  },
  {
   "cell_type": "markdown",
   "metadata": {},
   "source": [
    "## ８）Fionaを使用して測地系の設定\n",
    "- （参考）https://www.gis-py.com/entry/geopandas-master"
   ]
  },
  {
   "cell_type": "code",
   "execution_count": 28,
   "metadata": {},
   "outputs": [],
   "source": [
    "from fiona.crs import from_epsg"
   ]
  },
  {
   "cell_type": "code",
   "execution_count": 29,
   "metadata": {},
   "outputs": [],
   "source": [
    "data_2.crs = from_epsg(2451)"
   ]
  },
  {
   "cell_type": "code",
   "execution_count": 30,
   "metadata": {},
   "outputs": [
    {
     "data": {
      "text/plain": [
       "{'init': 'epsg:2451', 'no_defs': True}"
      ]
     },
     "execution_count": 30,
     "metadata": {},
     "output_type": "execute_result"
    }
   ],
   "source": [
    "data_2.crs"
   ]
  },
  {
   "cell_type": "markdown",
   "metadata": {},
   "source": [
    "## ９）shpファイルに書き出し"
   ]
  },
  {
   "cell_type": "markdown",
   "metadata": {},
   "source": [
    "- 抽出する河川名のファイルの要素数あるリストを作成\n",
    "- （参考）http://nekoyukimmm.hatenablog.com/entry/2016/02/26/091217"
   ]
  },
  {
   "cell_type": "code",
   "execution_count": 31,
   "metadata": {},
   "outputs": [],
   "source": [
    "dir_1 = \"../Data/Working\""
   ]
  },
  {
   "cell_type": "code",
   "execution_count": 32,
   "metadata": {},
   "outputs": [],
   "source": [
    "dir_2 = dir_1 + \"/\" + region + \"_\" + river_2"
   ]
  },
  {
   "cell_type": "code",
   "execution_count": 33,
   "metadata": {},
   "outputs": [
    {
     "data": {
      "text/plain": [
       "'../Data/Working/Kanagawa_Sagamigawa'"
      ]
     },
     "execution_count": 33,
     "metadata": {},
     "output_type": "execute_result"
    }
   ],
   "source": [
    "dir_2"
   ]
  },
  {
   "cell_type": "code",
   "execution_count": 34,
   "metadata": {},
   "outputs": [],
   "source": [
    "# 作成したデータ格納用にディレクトリを作成\n",
    "os.mkdir(dir_2)"
   ]
  },
  {
   "cell_type": "code",
   "execution_count": 35,
   "metadata": {},
   "outputs": [],
   "source": [
    "data_2.to_file(dir_2, encoding='UTF-8')"
   ]
  },
  {
   "cell_type": "code",
   "execution_count": 36,
   "metadata": {},
   "outputs": [
    {
     "data": {
      "text/plain": [
       "<matplotlib.axes._subplots.AxesSubplot at 0x1b179bda6c8>"
      ]
     },
     "execution_count": 36,
     "metadata": {},
     "output_type": "execute_result"
    },
    {
     "data": {
      "image/png": "[encoded data removed]",
      "text/plain": [
       "<Figure size 432x288 with 1 Axes>"
      ]
     },
     "metadata": {
      "needs_background": "light"
     },
     "output_type": "display_data"
    }
   ],
   "source": [
    "data_2.plot()"
   ]
  }
 ],
 "metadata": {
  "kernelspec": {
   "display_name": "Python 3",
   "language": "python",
   "name": "python3"
  },
  "language_info": {
   "codemirror_mode": {
    "name": "ipython",
    "version": 3
   },
   "file_extension": ".py",
   "mimetype": "text/x-python",
   "name": "python",
   "nbconvert_exporter": "python",
   "pygments_lexer": "ipython3",
   "version": "3.7.4"
  }
 },
 "nbformat": 4,
 "nbformat_minor": 4
}
