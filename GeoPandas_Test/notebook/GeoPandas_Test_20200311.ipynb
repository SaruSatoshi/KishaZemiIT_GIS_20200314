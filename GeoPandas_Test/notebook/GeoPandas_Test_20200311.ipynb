{
 "cells": [
  {
   "cell_type": "markdown",
   "metadata": {},
   "source": [
    "# geopandasの基本（１）\n",
    "- geopandasの使い方をマスターしよう　～Shapeファイルの読込・作成、GeoDataFrameの扱い方まで～\n",
    "- https://www.gis-py.com/entry/geopandas-master"
   ]
  },
  {
   "cell_type": "code",
   "execution_count": 1,
   "metadata": {},
   "outputs": [],
   "source": [
    "# geopandasをインポート\n",
    "import geopandas as gpd\n",
    "from matplotlib import pyplot as plt"
   ]
  },
  {
   "cell_type": "code",
   "execution_count": 2,
   "metadata": {},
   "outputs": [],
   "source": [
    "# Jupyter Notebookでノートブック上にグラフを描画する際に指定する記述\n",
    "%matplotlib inline"
   ]
  },
  {
   "cell_type": "markdown",
   "metadata": {},
   "source": [
    "## shapeファイルの読み込み"
   ]
  },
  {
   "cell_type": "code",
   "execution_count": 3,
   "metadata": {},
   "outputs": [],
   "source": [
    "# esriの全国市区町村界データを読み込む\n",
    "# https://www.esrij.com/products/japan-shp/\n",
    "fp = r\"C:\\Users\\0000420837\\Desktop\\GeoPandas_Test\\data\\japan_ver81\\japan_ver81.shp\""
   ]
  },
  {
   "cell_type": "code",
   "execution_count": 4,
   "metadata": {},
   "outputs": [],
   "source": [
    "# Shapeをファイル読込\n",
    "# encodingで\"SHIFT-JIS\"を指定\n",
    "data = gpd.read_file(fp, encoding=\"SHIFT-JIS\")"
   ]
  },
  {
   "cell_type": "code",
   "execution_count": 5,
   "metadata": {},
   "outputs": [
    {
     "data": {
      "text/plain": [
       "geopandas.geodataframe.GeoDataFrame"
      ]
     },
     "execution_count": 5,
     "metadata": {},
     "output_type": "execute_result"
    }
   ],
   "source": [
    "# データ型を確認\n",
    "type(data)"
   ]
  },
  {
   "cell_type": "code",
   "execution_count": 6,
   "metadata": {},
   "outputs": [
    {
     "data": {
      "text/html": [
       "<div>\n",
       "<style scoped>\n",
       "    .dataframe tbody tr th:only-of-type {\n",
       "        vertical-align: middle;\n",
       "    }\n",
       "\n",
       "    .dataframe tbody tr th {\n",
       "        vertical-align: top;\n",
       "    }\n",
       "\n",
       "    .dataframe thead th {\n",
       "        text-align: right;\n",
       "    }\n",
       "</style>\n",
       "<table border=\"1\" class=\"dataframe\">\n",
       "  <thead>\n",
       "    <tr style=\"text-align: right;\">\n",
       "      <th></th>\n",
       "      <th>JCODE</th>\n",
       "      <th>KEN</th>\n",
       "      <th>SICHO</th>\n",
       "      <th>GUN</th>\n",
       "      <th>SEIREI</th>\n",
       "      <th>SIKUCHOSON</th>\n",
       "      <th>CITY_ENG</th>\n",
       "      <th>P_NUM</th>\n",
       "      <th>H_NUM</th>\n",
       "      <th>geometry</th>\n",
       "    </tr>\n",
       "  </thead>\n",
       "  <tbody>\n",
       "    <tr>\n",
       "      <td>1905</td>\n",
       "      <td>47362</td>\n",
       "      <td>沖縄県</td>\n",
       "      <td>None</td>\n",
       "      <td>島尻郡</td>\n",
       "      <td>None</td>\n",
       "      <td>八重瀬町</td>\n",
       "      <td>Yaese-cho</td>\n",
       "      <td>30093</td>\n",
       "      <td>11268</td>\n",
       "      <td>POLYGON ((127.71732 26.17937, 127.72088 26.175...</td>\n",
       "    </tr>\n",
       "    <tr>\n",
       "      <td>1906</td>\n",
       "      <td>47375</td>\n",
       "      <td>沖縄県</td>\n",
       "      <td>None</td>\n",
       "      <td>宮古郡</td>\n",
       "      <td>None</td>\n",
       "      <td>多良間村</td>\n",
       "      <td>Tarama-son</td>\n",
       "      <td>1192</td>\n",
       "      <td>525</td>\n",
       "      <td>MULTIPOLYGON (((124.70554 24.67708, 124.70436 ...</td>\n",
       "    </tr>\n",
       "    <tr>\n",
       "      <td>1907</td>\n",
       "      <td>47381</td>\n",
       "      <td>沖縄県</td>\n",
       "      <td>None</td>\n",
       "      <td>八重山郡</td>\n",
       "      <td>None</td>\n",
       "      <td>竹富町</td>\n",
       "      <td>Taketomi-cho</td>\n",
       "      <td>4239</td>\n",
       "      <td>2360</td>\n",
       "      <td>MULTIPOLYGON (((123.76601 24.06841, 123.76380 ...</td>\n",
       "    </tr>\n",
       "    <tr>\n",
       "      <td>1908</td>\n",
       "      <td>47382</td>\n",
       "      <td>沖縄県</td>\n",
       "      <td>None</td>\n",
       "      <td>八重山郡</td>\n",
       "      <td>None</td>\n",
       "      <td>与那国町</td>\n",
       "      <td>Yonaguni-cho</td>\n",
       "      <td>1490</td>\n",
       "      <td>786</td>\n",
       "      <td>MULTIPOLYGON (((123.03378 24.45399, 123.03443 ...</td>\n",
       "    </tr>\n",
       "    <tr>\n",
       "      <td>1909</td>\n",
       "      <td>None</td>\n",
       "      <td>沖縄県</td>\n",
       "      <td>None</td>\n",
       "      <td>None</td>\n",
       "      <td>None</td>\n",
       "      <td>所属未定地</td>\n",
       "      <td>None</td>\n",
       "      <td>0</td>\n",
       "      <td>0</td>\n",
       "      <td>POLYGON ((127.84623 26.43518, 127.84373 26.431...</td>\n",
       "    </tr>\n",
       "  </tbody>\n",
       "</table>\n",
       "</div>"
      ],
      "text/plain": [
       "      JCODE  KEN SICHO   GUN SEIREI SIKUCHOSON      CITY_ENG  P_NUM  H_NUM  \\\n",
       "1905  47362  沖縄県  None   島尻郡   None       八重瀬町     Yaese-cho  30093  11268   \n",
       "1906  47375  沖縄県  None   宮古郡   None       多良間村    Tarama-son   1192    525   \n",
       "1907  47381  沖縄県  None  八重山郡   None        竹富町  Taketomi-cho   4239   2360   \n",
       "1908  47382  沖縄県  None  八重山郡   None       与那国町  Yonaguni-cho   1490    786   \n",
       "1909   None  沖縄県  None  None   None      所属未定地          None      0      0   \n",
       "\n",
       "                                               geometry  \n",
       "1905  POLYGON ((127.71732 26.17937, 127.72088 26.175...  \n",
       "1906  MULTIPOLYGON (((124.70554 24.67708, 124.70436 ...  \n",
       "1907  MULTIPOLYGON (((123.76601 24.06841, 123.76380 ...  \n",
       "1908  MULTIPOLYGON (((123.03378 24.45399, 123.03443 ...  \n",
       "1909  POLYGON ((127.84623 26.43518, 127.84373 26.431...  "
      ]
     },
     "execution_count": 6,
     "metadata": {},
     "output_type": "execute_result"
    }
   ],
   "source": [
    "# GeoDataFrameの最初の5行を取得\n",
    "data.tail()"
   ]
  },
  {
   "cell_type": "code",
   "execution_count": 7,
   "metadata": {},
   "outputs": [
    {
     "data": {
      "text/plain": [
       "0    POLYGON ((141.33504 43.06914, 141.34233 43.066...\n",
       "1    POLYGON ((141.39820 43.17340, 141.40002 43.171...\n",
       "2    POLYGON ((141.44721 43.15611, 141.44698 43.155...\n",
       "3    POLYGON ((141.47346 43.09610, 141.44938 43.062...\n",
       "4    POLYGON ((141.36635 43.05805, 141.38471 43.046...\n",
       "Name: geometry, dtype: geometry"
      ]
     },
     "execution_count": 7,
     "metadata": {},
     "output_type": "execute_result"
    }
   ],
   "source": [
    "# カラム指定してデータを取得\n",
    "data['geometry'].head()"
   ]
  },
  {
   "cell_type": "code",
   "execution_count": 8,
   "metadata": {},
   "outputs": [
    {
     "data": {
      "image/png": "[encoded data removed]",
      "text/plain": [
       "<Figure size 432x288 with 1 Axes>"
      ]
     },
     "metadata": {
      "needs_background": "light"
     },
     "output_type": "display_data"
    }
   ],
   "source": [
    "# .plot() を使用することで読み込んだShapeを視覚化\n",
    "data.plot();"
   ]
  },
  {
   "cell_type": "code",
   "execution_count": 9,
   "metadata": {},
   "outputs": [
    {
     "data": {
      "text/plain": [
       "{'init': 'epsg:4612'}"
      ]
     },
     "execution_count": 9,
     "metadata": {},
     "output_type": "execute_result"
    }
   ],
   "source": [
    "# 座標系などを確認\n",
    "data.crs"
   ]
  },
  {
   "cell_type": "markdown",
   "metadata": {},
   "source": [
    "## shapeファイルの作成\n",
    "- 日本地図の都道府県別のレコードを別のShapeファイルとして作成"
   ]
  },
  {
   "cell_type": "markdown",
   "metadata": {},
   "source": [
    "### ★抽出する都道府県を変数に指定"
   ]
  },
  {
   "cell_type": "code",
   "execution_count": 10,
   "metadata": {},
   "outputs": [],
   "source": [
    "# 抽出する都道府県を変数に指定\n",
    "region = \"Aomori\"\n",
    "ken = \"青森県\""
   ]
  },
  {
   "cell_type": "code",
   "execution_count": 11,
   "metadata": {},
   "outputs": [
    {
     "data": {
      "text/plain": [
       "'Aomori'"
      ]
     },
     "execution_count": 11,
     "metadata": {},
     "output_type": "execute_result"
    }
   ],
   "source": [
    "region"
   ]
  },
  {
   "cell_type": "code",
   "execution_count": 12,
   "metadata": {},
   "outputs": [],
   "source": [
    "# 保存先のファイルを作成\n",
    "out = r\"C:\\Users\\0000420837\\Desktop\\GeoPandas_Test\\data\\japan_ver81\\japan_ver81_\" + region + \".shp\""
   ]
  },
  {
   "cell_type": "code",
   "execution_count": 13,
   "metadata": {},
   "outputs": [
    {
     "data": {
      "text/plain": [
       "'C:\\\\Users\\\\0000420837\\\\Desktop\\\\GeoPandas_Test\\\\data\\\\japan_ver81\\\\japan_ver81_Aomori.shp'"
      ]
     },
     "execution_count": 13,
     "metadata": {},
     "output_type": "execute_result"
    }
   ],
   "source": [
    "out"
   ]
  },
  {
   "cell_type": "code",
   "execution_count": 14,
   "metadata": {},
   "outputs": [],
   "source": [
    "# KENで都道府県を抽出\n",
    "selection = data[data.KEN == ken]"
   ]
  },
  {
   "cell_type": "code",
   "execution_count": 15,
   "metadata": {},
   "outputs": [
    {
     "data": {
      "text/html": [
       "<div>\n",
       "<style scoped>\n",
       "    .dataframe tbody tr th:only-of-type {\n",
       "        vertical-align: middle;\n",
       "    }\n",
       "\n",
       "    .dataframe tbody tr th {\n",
       "        vertical-align: top;\n",
       "    }\n",
       "\n",
       "    .dataframe thead th {\n",
       "        text-align: right;\n",
       "    }\n",
       "</style>\n",
       "<table border=\"1\" class=\"dataframe\">\n",
       "  <thead>\n",
       "    <tr style=\"text-align: right;\">\n",
       "      <th></th>\n",
       "      <th>JCODE</th>\n",
       "      <th>KEN</th>\n",
       "      <th>SICHO</th>\n",
       "      <th>GUN</th>\n",
       "      <th>SEIREI</th>\n",
       "      <th>SIKUCHOSON</th>\n",
       "      <th>CITY_ENG</th>\n",
       "      <th>P_NUM</th>\n",
       "      <th>H_NUM</th>\n",
       "      <th>geometry</th>\n",
       "    </tr>\n",
       "  </thead>\n",
       "  <tbody>\n",
       "    <tr>\n",
       "      <td>194</td>\n",
       "      <td>02201</td>\n",
       "      <td>青森県</td>\n",
       "      <td>None</td>\n",
       "      <td>None</td>\n",
       "      <td>None</td>\n",
       "      <td>青森市</td>\n",
       "      <td>Aomori-shi</td>\n",
       "      <td>293066</td>\n",
       "      <td>136713</td>\n",
       "      <td>MULTIPOLYGON (((140.70208 40.85484, 140.70376 ...</td>\n",
       "    </tr>\n",
       "    <tr>\n",
       "      <td>195</td>\n",
       "      <td>02202</td>\n",
       "      <td>青森県</td>\n",
       "      <td>None</td>\n",
       "      <td>None</td>\n",
       "      <td>None</td>\n",
       "      <td>弘前市</td>\n",
       "      <td>Hirosaki-shi</td>\n",
       "      <td>177189</td>\n",
       "      <td>79404</td>\n",
       "      <td>POLYGON ((140.33292 40.76140, 140.33571 40.759...</td>\n",
       "    </tr>\n",
       "    <tr>\n",
       "      <td>196</td>\n",
       "      <td>02203</td>\n",
       "      <td>青森県</td>\n",
       "      <td>None</td>\n",
       "      <td>None</td>\n",
       "      <td>None</td>\n",
       "      <td>八戸市</td>\n",
       "      <td>Hachinohe-shi</td>\n",
       "      <td>235878</td>\n",
       "      <td>106907</td>\n",
       "      <td>MULTIPOLYGON (((141.63276 40.49563, 141.63200 ...</td>\n",
       "    </tr>\n",
       "    <tr>\n",
       "      <td>197</td>\n",
       "      <td>02204</td>\n",
       "      <td>青森県</td>\n",
       "      <td>None</td>\n",
       "      <td>None</td>\n",
       "      <td>None</td>\n",
       "      <td>黒石市</td>\n",
       "      <td>Kuroishi-shi</td>\n",
       "      <td>35002</td>\n",
       "      <td>13603</td>\n",
       "      <td>POLYGON ((140.61295 40.68839, 140.61817 40.687...</td>\n",
       "    </tr>\n",
       "    <tr>\n",
       "      <td>198</td>\n",
       "      <td>02205</td>\n",
       "      <td>青森県</td>\n",
       "      <td>None</td>\n",
       "      <td>None</td>\n",
       "      <td>None</td>\n",
       "      <td>五所川原市</td>\n",
       "      <td>Goshogawara-shi</td>\n",
       "      <td>57310</td>\n",
       "      <td>25366</td>\n",
       "      <td>MULTIPOLYGON (((140.53278 40.98834, 140.53967 ...</td>\n",
       "    </tr>\n",
       "  </tbody>\n",
       "</table>\n",
       "</div>"
      ],
      "text/plain": [
       "     JCODE  KEN SICHO   GUN SEIREI SIKUCHOSON         CITY_ENG   P_NUM  \\\n",
       "194  02201  青森県  None  None   None        青森市       Aomori-shi  293066   \n",
       "195  02202  青森県  None  None   None        弘前市     Hirosaki-shi  177189   \n",
       "196  02203  青森県  None  None   None        八戸市    Hachinohe-shi  235878   \n",
       "197  02204  青森県  None  None   None        黒石市     Kuroishi-shi   35002   \n",
       "198  02205  青森県  None  None   None      五所川原市  Goshogawara-shi   57310   \n",
       "\n",
       "      H_NUM                                           geometry  \n",
       "194  136713  MULTIPOLYGON (((140.70208 40.85484, 140.70376 ...  \n",
       "195   79404  POLYGON ((140.33292 40.76140, 140.33571 40.759...  \n",
       "196  106907  MULTIPOLYGON (((141.63276 40.49563, 141.63200 ...  \n",
       "197   13603  POLYGON ((140.61295 40.68839, 140.61817 40.687...  \n",
       "198   25366  MULTIPOLYGON (((140.53278 40.98834, 140.53967 ...  "
      ]
     },
     "execution_count": 15,
     "metadata": {},
     "output_type": "execute_result"
    }
   ],
   "source": [
    "selection.head()"
   ]
  },
  {
   "cell_type": "code",
   "execution_count": 16,
   "metadata": {},
   "outputs": [],
   "source": [
    "# .to_file()でShapeファイルの作成\n",
    "selection.to_file(out)"
   ]
  },
  {
   "cell_type": "code",
   "execution_count": 17,
   "metadata": {},
   "outputs": [],
   "source": [
    "# 作成した都道府県のShapeを視覚化\n",
    "fp_Hokkaido = r\"C:\\Users\\0000420837\\Desktop\\GeoPandas_Test\\data\\japan_ver81\\japan_ver81_\" + region + \".shp\""
   ]
  },
  {
   "cell_type": "code",
   "execution_count": 18,
   "metadata": {},
   "outputs": [
    {
     "data": {
      "image/png": "[encoded data removed]",
      "text/plain": [
       "<Figure size 432x288 with 1 Axes>"
      ]
     },
     "metadata": {
      "needs_background": "light"
     },
     "output_type": "display_data"
    }
   ],
   "source": [
    "data_Hokkaido = gpd.read_file(fp_Hokkaido)\n",
    "data_Hokkaido.plot();"
   ]
  },
  {
   "cell_type": "code",
   "execution_count": null,
   "metadata": {},
   "outputs": [],
   "source": []
  }
 ],
 "metadata": {
  "kernelspec": {
   "display_name": "Python 3",
   "language": "python",
   "name": "python3"
  },
  "language_info": {
   "codemirror_mode": {
    "name": "ipython",
    "version": 3
   },
   "file_extension": ".py",
   "mimetype": "text/x-python",
   "name": "python",
   "nbconvert_exporter": "python",
   "pygments_lexer": "ipython3",
   "version": "3.7.4"
  }
 },
 "nbformat": 4,
 "nbformat_minor": 2
}
